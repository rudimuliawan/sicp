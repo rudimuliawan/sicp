{
 "cells": [
  {
   "cell_type": "raw",
   "id": "2f0a4b22",
   "metadata": {
    "pycharm": {
     "name": ""
    }
   },
   "source": []
  },
  {
   "cell_type": "code",
   "execution_count": null,
   "id": "1ed27261",
   "metadata": {
    "pycharm": {
     "is_executing": true
    }
   },
   "outputs": [],
   "source": [
    "; Exercise 1.9\n",
    "\n",
    "(define (+ a b)\n",
    "  (if (= a 0)\n",
    "      b\n",
    "      (inc (+ (dec a) b))))\n",
    "\n",
    "(define (+ a b)\n",
    "  (if (= a 0)\n",
    "      b\n",
    "      (+ (dec a) (inc b))))\n",
    "\n",
    "; [x] The first process is recursive\n",
    "; [x] The second process is iterative"
   ]
  },
  {
   "cell_type": "code",
   "execution_count": null,
   "id": "02f697b4",
   "metadata": {},
   "outputs": [],
   "source": [
    "; Exercise 1.10"
   ]
  },
  {
   "cell_type": "code",
   "execution_count": null,
   "id": "91e5e26b",
   "metadata": {},
   "outputs": [],
   "source": [
    "; Exercise 1.11\n",
    "(define (f n)\n",
    "  (if (< n 3)\n",
    "      n\n",
    "      (+ (f (- n 1)) (* 2 (f (- n 2))) (* 3 (f (- n 3))))))"
   ]
  },
  {
   "cell_type": "code",
   "execution_count": 28,
   "id": "2fdaaf86",
   "metadata": {},
   "outputs": [
    {
     "data": {
      "text/plain": [
       "4"
      ]
     },
     "execution_count": 28,
     "metadata": {},
     "output_type": "execute_result"
    }
   ],
   "source": [
    "; Exercise 1.12\n",
    "(define (pascal row col)\n",
    "  (if (or (= row 0) (= row 1) (= col 0) (= col row))\n",
    "      1\n",
    "      (+ (pascal (- row 1) (- col 1)) (pascal (- row 1) col))))\n",
    "\n",
    "(pascal 4 1)"
   ]
  },
  {
   "cell_type": "code",
   "execution_count": null,
   "id": "42972bca",
   "metadata": {},
   "outputs": [],
   "source": [
    "; Exercise 1.13"
   ]
  }
 ],
 "metadata": {
  "kernelspec": {
   "display_name": "Calysto Scheme 3",
   "language": "scheme",
   "name": "calysto_scheme"
  },
  "language_info": {
   "codemirror_mode": {
    "name": "scheme"
   },
   "mimetype": "text/x-scheme",
   "name": "scheme",
   "pygments_lexer": "scheme"
  }
 },
 "nbformat": 4,
 "nbformat_minor": 5
}
