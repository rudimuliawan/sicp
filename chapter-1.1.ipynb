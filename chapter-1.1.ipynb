{
 "cells": [
  {
   "cell_type": "code",
   "execution_count": 1,
   "id": "b985bf17",
   "metadata": {
    "ExecuteTime": {
     "start_time": "2023-05-16T17:47:54.915596Z",
     "end_time": "2023-05-16T17:47:54.919609Z"
    }
   },
   "outputs": [],
   "source": [
    "; Exercise 1.1.1\n",
    "\n",
    "; 10 -> 10\n",
    "\n",
    "; (+ 5 3 4) -> 12\n",
    "\n",
    "; (- 9 1) -> 9\n",
    "\n",
    "; (/ 6 2) -> 3\n",
    "\n",
    "; (+ (* 2 4) (- 4 6)) -> 6"
   ]
  },
  {
   "cell_type": "code",
   "execution_count": null,
   "id": "c25a7008",
   "metadata": {},
   "outputs": [],
   "source": [
    "; Exercise 1.2\n",
    "(/ (+ 5 4 (- 2 (- 3 (+ 6 (/ 4 5))))) (* 3 (- 6 2) (- 2 7)))"
   ]
  },
  {
   "cell_type": "code",
   "execution_count": null,
   "id": "896bc924",
   "metadata": {},
   "outputs": [],
   "source": [
    "; Exercise 1.1.2\n",
    "; (define a 3)\n",
    "; (define b (+ a 1))\n",
    "; (+ a b (* a b)) -> 19\n",
    "; (= a b) -> False"
   ]
  },
  {
   "cell_type": "code",
   "execution_count": null,
   "id": "1e454040",
   "metadata": {},
   "outputs": [],
   "source": [
    "; Exercise 1.3\n",
    "\n",
    "(define (square-sum-larger a b c)\n",
    "  (cond ((and (> a c) (> b c)) (+ (* a a) (* b b)))\n",
    "        ((and (> a b) (> c b)) (+ (* a a) (* c c)))\n",
    "        (else (+ (* b b) (* c c)))\n",
    "        ))\n",
    "\n",
    "(square-sum-larger 1 2 3)"
   ]
  },
  {
   "cell_type": "code",
   "execution_count": null,
   "id": "f1f1da4b",
   "metadata": {},
   "outputs": [],
   "source": [
    "; Exercise 1.4\n",
    "(define (mystery a b)\n",
    "  ((if (> b 0) + -) a b))\n",
    "\n",
    "; [x] (if (> b 0) (+ a b) (- a b))\n",
    "; [x] (+ a (if (> b 0) b (- b)))\n",
    "; [x] (+ a (abs b))\n"
   ]
  },
  {
   "cell_type": "code",
   "execution_count": null,
   "id": "229b28ed",
   "metadata": {},
   "outputs": [],
   "source": [
    "; Exercise 1.5\n",
    "\n",
    "; [x] In applicative-order evaluation, (p) will be evaluated, resulting in an infinite loop\n",
    "; [x] In normal-order evaluation, (p) is not evaluated because predicate of if evaluates to true"
   ]
  },
  {
   "cell_type": "code",
   "execution_count": null,
   "id": "b1685ad0",
   "metadata": {},
   "outputs": [],
   "source": [
    "; Exercise 1.6\n",
    "\n",
    ";[x] Infinite loop: sqrt-iter always evaluates itself"
   ]
  },
  {
   "cell_type": "code",
   "execution_count": null,
   "id": "d9cf4f4d",
   "metadata": {},
   "outputs": [],
   "source": [
    "; Exercise 1.7\n",
    "\n",
    "(define (my-sqrt x)\n",
    "  (define (square x)\n",
    "    (* x x))\n",
    "  \n",
    "  (define (average x y)\n",
    "    (/ (+ x y) 2))\n",
    "  \n",
    "  (define (good-enough? guess x)\n",
    "    (< (abs (- (square guess) x)) 0.000001))\n",
    "  \n",
    "  (define (improve guess x)\n",
    "    (average guess (/ x guess)))\n",
    "  \n",
    "  (define (sqrt-iter guess x)\n",
    "    (if (good-enough? guess x)\n",
    "        guess\n",
    "        (sqrt-iter (improve guess x) x)))\n",
    "  \n",
    "  (sqrt-iter 1.0 x))\n",
    "\n",
    "(my-sqrt 0.0009)"
   ]
  },
  {
   "cell_type": "code",
   "execution_count": 11,
   "id": "5c246526",
   "metadata": {},
   "outputs": [
    {
     "data": {
      "text/plain": [
       "3.0000000000000977"
      ]
     },
     "execution_count": 11,
     "metadata": {},
     "output_type": "execute_result"
    }
   ],
   "source": [
    "; Exercise 1.8\n",
    "\n",
    "(define (cube-root x)\n",
    "  (define (cube x)\n",
    "    (* x x x))\n",
    "  \n",
    "  (define (average x y)\n",
    "    (/ (+ x y) 2))\n",
    "  \n",
    "  (define (good-enough? guess x)\n",
    "    (< (abs (- (cube guess) x)) 0.000001))\n",
    "  \n",
    "  (define (improve guess x)\n",
    "    (/ (+ (/ x (* guess guess)) (* 2 guess)) 3))\n",
    "  \n",
    "  (define (cube-iter guess x)\n",
    "    (if (good-enough? guess x)\n",
    "        guess\n",
    "        (cube-iter (improve guess x) x)))\n",
    "  \n",
    "  (cube-iter 1.0 x))\n",
    "\n",
    "(cube-root 27)"
   ]
  }
 ],
 "metadata": {
  "kernelspec": {
   "display_name": "Calysto Scheme 3",
   "language": "scheme",
   "name": "calysto_scheme"
  },
  "language_info": {
   "codemirror_mode": {
    "name": "scheme"
   },
   "mimetype": "text/x-scheme",
   "name": "scheme",
   "pygments_lexer": "scheme"
  }
 },
 "nbformat": 4,
 "nbformat_minor": 5
}
